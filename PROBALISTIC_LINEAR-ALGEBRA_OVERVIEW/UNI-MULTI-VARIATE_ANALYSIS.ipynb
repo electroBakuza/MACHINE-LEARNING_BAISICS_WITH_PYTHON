{
 "cells": [
  {
   "cell_type": "markdown",
   "metadata": {},
   "source": [
    "# PART 1a\n",
    "## Shahwaiz\n",
    "----\n",
    "## Goal\n",
    "\n",
    "Your goal in this assigment is to implement and refresh the concepts learned during the previous two to three weeks using the ** Pure Python language** . This will not only solidify your Python understanding but also give you strong footing for further advancement :)\n",
    "\n",
    "**Note** Please note that you are **not allowed to use any other library (numpy and scipy) whatsoever for this part**. All the tools required to complete the tasks have already been discussed in the Lab. In case you need any help you can post on Piazza."
   ]
  },
  {
   "cell_type": "markdown",
   "metadata": {},
   "source": [
    "#### Hello IPython\n",
    "----------------\n",
    "The IPython notebook is an application to build interactive computational notebooks. You'll be using them to complete labs and homework. Once you've set up Python, please download this  ipython notebook and open it with IPython by typing\n",
    "\n",
    "ipython notebook --pylab=inline\n",
    "\n",
    "Notebooks are composed of many \"cells\", which can contain text (like this one), or code (like the one below). Double click on the cell below, and evaluate it by clicking the \"play\" button above, or by hitting shift + enter.\n",
    "\n",
    "**So Lets Start**"
   ]
  },
  {
   "cell_type": "code",
   "execution_count": null,
   "metadata": {
    "collapsed": false,
    "run_control": {
     "breakpoint": false
    }
   },
   "outputs": [],
   "source": [
    "#Download the IRIS dataset\n",
    "#\"!\" means run the bash (shell) command, if you are unable to download the data, go \n",
    "# to given link and manually download the data and copy it to your current assignment folder...\n",
    "!wget http://archive.ics.uci.edu/ml/machine-learning-databases/iris/iris.data"
   ]
  },
  {
   "cell_type": "code",
   "execution_count": 38,
   "metadata": {
    "collapsed": false,
    "run_control": {
     "breakpoint": false
    }
   },
   "outputs": [],
   "source": [
    "#import pandas and name this namespace as pd\n",
    "import pandas as pd"
   ]
  },
  {
   "cell_type": "code",
   "execution_count": 39,
   "metadata": {
    "collapsed": false,
    "run_control": {
     "breakpoint": false
    }
   },
   "outputs": [
    {
     "name": "stdout",
     "output_type": "stream",
     "text": [
      "       SepalLength  SepalWidth  PetalLength  PetalWidth\n",
      "count   149.000000  149.000000   149.000000  149.000000\n",
      "mean      5.848322    3.051007     3.774497    1.205369\n",
      "std       0.828594    0.433499     1.759651    0.761292\n",
      "min       4.300000    2.000000     1.000000    0.100000\n",
      "25%       5.100000    2.800000     1.600000    0.300000\n",
      "50%       5.800000    3.000000     4.400000    1.300000\n",
      "75%       6.400000    3.300000     5.100000    1.800000\n",
      "max       7.900000    4.400000     6.900000    2.500000\n"
     ]
    }
   ],
   "source": [
    "#Load data and name the columns\n",
    "data=pd.read_csv('iris.data')\n",
    "data.columns=['SepalLength','SepalWidth','PetalLength','PetalWidth','Class']\n",
    "print data.describe()\n"
   ]
  },
  {
   "cell_type": "code",
   "execution_count": 40,
   "metadata": {
    "collapsed": false,
    "run_control": {
     "breakpoint": false
    }
   },
   "outputs": [],
   "source": [
    "#Code for generating data....\n",
    "datalist=[] #create an empty list\n",
    "# data list is a list of two elements, where index=0 contains data corresponding to petal \n",
    "# length and index=1 contains data corresponding to petal width\n",
    "datalist.append(list(data['PetalLength'].dropna()))\n",
    "datalist.append(list(data['PetalWidth'].dropna()))\n",
    "datalist.append(list(data['SepalLength'].dropna()))\n",
    "datalist.append(list(data['SepalWidth'].dropna()))\n",
    "\n",
    "#print \"PetalLength=\", datalist[0]\n",
    "#print \"PetalWidth=\", datalist[1]\n",
    "\n",
    "#This and above code are both same...\n",
    "# datalist=[0]*2#create a list of 2 elements\n",
    "# datalist[0]=(list(data['PetalLength'].dropna()))\n",
    "# datalist[1]=(list(data['PetalWidth'].dropna()))\n",
    "#data list is a list of two elements, where index=0 contains data corresponding to petal \n",
    "# length and index=1 contains data corresponding to petal width\n",
    "# print(\"PetalLength=\", datalist[0])\n",
    "# print(\"PetalWidth=\", datalist[1])"
   ]
  },
  {
   "cell_type": "markdown",
   "metadata": {},
   "source": [
    "*In all the tasks given below use the list variable `datalist` (defined above) to answer all the questions.*\n",
    "\n",
    "#### Task1\n",
    "----------------\n",
    "Write code to find the mean and variance of the both the attributes vector (petal length and petal Width) "
   ]
  },
  {
   "cell_type": "code",
   "execution_count": 5,
   "metadata": {
    "collapsed": false
   },
   "outputs": [],
   "source": [
    "def mean(l):\n",
    "    #if ( l.count>0 and type(l[0])!='int' ):\n",
    "        #print 'array passed should be float!.',\n",
    "    #else:\n",
    "        return sum(l)/150.0    "
   ]
  },
  {
   "cell_type": "code",
   "execution_count": 6,
   "metadata": {
    "collapsed": true
   },
   "outputs": [],
   "source": [
    "def variance(l):\n",
    "    mean_1=mean(l)\n",
    "    E_X=0.0\n",
    "    for i in range (0,149):\n",
    "        E_X=E_X+float((l[i]-mean_1)**2)\n",
    "    return E_X/150.0"
   ]
  },
  {
   "cell_type": "code",
   "execution_count": 68,
   "metadata": {
    "collapsed": false,
    "run_control": {
     "breakpoint": false
    }
   },
   "outputs": [
    {
     "name": "stdout",
     "output_type": "stream",
     "text": [
      "variance(datalist[0]): 3.05571621926\n",
      "variance(datalist[1]): 0.571902174815\n",
      "mean(datalist[0]): 3.74933333333\n",
      "mean(datalist[1]) 1.19733333333\n"
     ]
    }
   ],
   "source": [
    "#Write your code here\n",
    "print \"variance(datalist[0]):\",variance(datalist[0])\n",
    "print \"variance(datalist[1]):\",variance(datalist[1])\n",
    "print \"mean(datalist[0]):\",mean(datalist[0])\n",
    "print \"mean(datalist[1])\",mean(datalist[1])"
   ]
  },
  {
   "cell_type": "markdown",
   "metadata": {},
   "source": [
    "#### Task2\n",
    "----------------\n",
    "Write code to unit normalize both (feature) vectors and compute the cosine similarity among them. Please comment does it make sense to compute the cosine similarity among the feature vectors."
   ]
  },
  {
   "cell_type": "code",
   "execution_count": 62,
   "metadata": {
    "collapsed": false
   },
   "outputs": [],
   "source": [
    "################3\n",
    "def unit_norm(l):\n",
    "    norm1=norm(l)\n",
    "    l_ret=[]\n",
    "    sum1=0.0\n",
    "    for i in range(0,len(l)):\n",
    "        sum1=sum1+(float(l[i]))**2\n",
    "        #l_ret.append(float(l[i])/norm1)\n",
    "    return (sum1)**.5#l_ret    \n",
    "####################################\n"
   ]
  },
  {
   "cell_type": "code",
   "execution_count": 63,
   "metadata": {
    "collapsed": false
   },
   "outputs": [],
   "source": [
    "import copy\n",
    "####input will be the data list of shape 2*150\n",
    "####output will be a one number \n",
    "def dot_a_b(data1,data2):\n",
    "    #data_list=copy.copy(data1,data2)\n",
    "    sum_dot=0.0\n",
    "    for i in range(0,data1[0].size):\n",
    "        sum_dot=sum_dot+ float(data1[i])*float(data2[i])\n",
    "    return sum_dot\n",
    "####################\n"
   ]
  },
  {
   "cell_type": "code",
   "execution_count": 78,
   "metadata": {
    "collapsed": false
   },
   "outputs": [
    {
     "name": "stdout",
     "output_type": "stream",
     "text": [
      "cos_theta: 0.0958188607119\n"
     ]
    }
   ],
   "source": [
    "cos_theta=dot_a_b(datalist[0],datalist[1])\n",
    "print \"cos_theta:\",cos_theta/unit_norm(datalist[0])*unit_norm(datalist[1]) "
   ]
  },
  {
   "cell_type": "code",
   "execution_count": null,
   "metadata": {
    "collapsed": false
   },
   "outputs": [],
   "source": [
    "###no mean to calculate the similarity between the two \n",
    "###features.\n",
    "###similarity should be calculated between the two examples"
   ]
  },
  {
   "cell_type": "markdown",
   "metadata": {},
   "source": [
    "#### Task3: Univariate Analysis\n",
    "----------------\n",
    "Lets model the petal length as a univariate bernoulli random variable by categorizing the petal length as short(< 4.9cm) and long(>=4.9cm). Write the code for finding the probability of a short petal length flower."
   ]
  },
  {
   "cell_type": "code",
   "execution_count": 76,
   "metadata": {
    "collapsed": true
   },
   "outputs": [],
   "source": [
    "###bernoulli rand var. is variable whose can be 0 or 1 only\n",
    "###if we define 0 for short petal length and 1 as long petal length\n",
    "###datalist[0]=petal Length\n",
    "###beware of float calculations with prob.\n",
    "def prob_short_pl(l):\n",
    "    c_short_pl=0\n",
    "    for i in l:\n",
    "        if(i<4.9):\n",
    "            c_short_pl+=1\n",
    "    #c_short_pl=len(l)-c_long_pl\n",
    "    #print c_short_pl\n",
    "    return c_short_pl/150.0"
   ]
  },
  {
   "cell_type": "code",
   "execution_count": 77,
   "metadata": {
    "collapsed": false,
    "run_control": {
     "breakpoint": false
    }
   },
   "outputs": [
    {
     "data": {
      "text/plain": [
       "0.6533333333333333"
      ]
     },
     "execution_count": 77,
     "metadata": {},
     "output_type": "execute_result"
    }
   ],
   "source": [
    "#Write your code here\n",
    "prob_short_pl(datalist[0])"
   ]
  },
  {
   "cell_type": "markdown",
   "metadata": {},
   "source": [
    "#### Task4: Univariate Analysis\n",
    "----------------\n",
    "Lets consider that we randomly choose 20 flower, whats the probability that 15 among them will be short petal lenght ones ?"
   ]
  },
  {
   "cell_type": "code",
   "execution_count": 16,
   "metadata": {
    "collapsed": true
   },
   "outputs": [],
   "source": [
    "import math\n",
    "###we are dealing with bernoulli trials \n",
    "###so in it we have some independent experiment\n",
    "###from these experiments we can ask what will be \n",
    "###the prob. of success in r_th trial\n",
    "###success can be our interest\n",
    "###in our case our interest is the short sepal lenght\n",
    "###so p=prob_short_pl(datalist[0])\n",
    "###it have formula as = nCr*[p^r*q^(n-r)]\n",
    "###nCr=n!/[r!*(n-r)!]\n",
    "def comb(n,r):\n",
    "    f=math.factorial\n",
    "    return f(n) / ( f(r)*f(n-r) )\n",
    "def prob_bern(n,r,p):\n",
    "    comb_1=comb(n,r)\n",
    "    return comb_1 * (  p**r * ((1-p)**(n-r)) )"
   ]
  },
  {
   "cell_type": "code",
   "execution_count": 80,
   "metadata": {
    "collapsed": false,
    "run_control": {
     "breakpoint": false
    }
   },
   "outputs": [
    {
     "name": "stdout",
     "output_type": "stream",
     "text": [
      "prob(n,r): 0.138355802603\n"
     ]
    }
   ],
   "source": [
    "#Write your code here\n",
    "###first call the prob_short_pl\n",
    "spl=prob_short_pl(datalist[0])\n",
    "print \"prob(n,r):\",prob_bern(20,15,.66)"
   ]
  },
  {
   "cell_type": "markdown",
   "metadata": {},
   "source": [
    "#### Task5: Univariate Analysis\n",
    "----------------\n",
    "Lets model the petal Width as a univariate Bernoulli random variable by categorizing the petal width as short(< 1.6cm) and long(>=1.6cm). Write the code for finding the probability of a short petal width flower."
   ]
  },
  {
   "cell_type": "code",
   "execution_count": 25,
   "metadata": {
    "collapsed": true
   },
   "outputs": [],
   "source": [
    "\n",
    "####its same above as prob_short_sp\n",
    "###but more generelize,n is the bound to distinguish\n",
    "###datalist[0]=petal Length\n",
    "def prob_with_n1(l,n):\n",
    "    c_short=0\n",
    "    for i in l:\n",
    "        #print i,\n",
    "        if(i<n):\n",
    "            c_short+=1\n",
    "    #print c_short        \n",
    "    return c_short/150.0"
   ]
  },
  {
   "cell_type": "code",
   "execution_count": 27,
   "metadata": {
    "collapsed": false,
    "run_control": {
     "breakpoint": false
    }
   },
   "outputs": [
    {
     "data": {
      "text/plain": [
       "0.6466666666666666"
      ]
     },
     "execution_count": 27,
     "metadata": {},
     "output_type": "execute_result"
    }
   ],
   "source": [
    "#Write your code here\n",
    "prob_with_n1(datalist[1],1.6) "
   ]
  },
  {
   "cell_type": "markdown",
   "metadata": {},
   "source": [
    "#### Task6: Univariate Analysis\n",
    "----------------\n",
    "Lets model the petal length as a univariate continuous Gaussian random variable. What is the probability of seeing a flower with the petal lenght in the range $\\in [5.6,\\; 5.7]$. Recall that a gaussian pdf is\n",
    "$$f(x) = \\frac{1}{\\sigma \\sqrt{2\\pi} } e^{ -\\frac{(x-\\mu)^2}{2\\sigma^2} }$$"
   ]
  },
  {
   "cell_type": "code",
   "execution_count": 21,
   "metadata": {
    "collapsed": true
   },
   "outputs": [],
   "source": [
    "###for prob of the cont. rand var. will use the \n",
    "###formula as f(x) as given above\n",
    "###integeral will be in range given [5.6,5.7]\n",
    "###other approach is that:\n",
    "###now if we but the 5.6 in the\n",
    "def area_prob(p_l,x):\n",
    "    mean_1=mean(p_l)\n",
    "    var=variance(p_l)\n",
    "    std=(var)**.5\n",
    "    ###we take the x as 5.7 [it can be 5.6]\n",
    "    f_x_1=1/(std*( (2*3.14)**.5) )\n",
    "    f_x_2=(x-mean_1)**2/(2*(std)**2)\n",
    "    f_x_2=2.71**-(f_x_2)### e=2.71\n",
    "    f_x=f_x_1*f_x_2\n",
    "    return f_x\n"
   ]
  },
  {
   "cell_type": "code",
   "execution_count": 82,
   "metadata": {
    "collapsed": false,
    "run_control": {
     "breakpoint": false
    }
   },
   "outputs": [
    {
     "name": "stdout",
     "output_type": "stream",
     "text": [
      "0.0126628318615\n"
     ]
    }
   ],
   "source": [
    "#Write your code here, use summation instead of integral, \n",
    "# you are not authorized to use scipy.stats function for this and later parts...\n",
    "def area_in_range(data_list,mina,maxa):\n",
    "    point=float(mina)\n",
    "    sum_prob=0.0\n",
    "    while(True):\n",
    "        if(point>maxa):\n",
    "            break\n",
    "        point=point+.01    \n",
    "        #print area_prob(data_list,point)\n",
    "        sum_prob=sum_prob + area_prob(data_list,point) \n",
    "    return sum_prob \n",
    "#############################################\n",
    "###we have formula for area under curve as:\n",
    "###area=2*eps*f(x)\n",
    "###x is the mid point of two values given between which we\n",
    "###will find the area.\n",
    "###eps is diff. between these two points.\n",
    "def area_under_curve(data_list,mina,maxa):\n",
    "    x=(mina+maxa)/2\n",
    "    eps=(maxa-mina)/2\n",
    "    f_x=area_prob(data_list,x)\n",
    "    return 2*eps*f_x\n",
    "#############################################\n",
    "print area_under_curve(datalist[0],5.6,5.7)\n",
    "\n"
   ]
  },
  {
   "cell_type": "markdown",
   "metadata": {},
   "source": [
    "#### Task7: Univariate Analysis\n",
    "----------------\n",
    "Lets model the petal length as a univariate continuous Gaussian random variable. What is the probability of seeing a flower with the petal lenght in the range $\\in [5.6,\\; 5.7]$. Recall that a gaussian pdf is"
   ]
  },
  {
   "cell_type": "code",
   "execution_count": null,
   "metadata": {
    "collapsed": false,
    "run_control": {
     "breakpoint": false
    }
   },
   "outputs": [],
   "source": [
    "\"\"\"\n",
    "Lets model the petal length as a univariate continuous Gaussian random variable.\n",
    "What is the probability of seeing a flower with the petal lenght in the range ∈[5.6,5.7] \n",
    "∈[5.6,5.7]\n",
    ". Recall that a gaussian pdf is\n",
    "\"\"\"\n",
    "#Write your code here"
   ]
  },
  {
   "cell_type": "markdown",
   "metadata": {},
   "source": [
    "#### Task8: Univariate Analysis\n",
    "----------------\n",
    "Lets model the petal length as a univariate continuous Gaussian random variable. What is the relative probability of seeing a flower with the petal length 5.4 to a flower with petal length 3.9."
   ]
  },
  {
   "cell_type": "code",
   "execution_count": 83,
   "metadata": {
    "collapsed": false
   },
   "outputs": [
    {
     "name": "stdout",
     "output_type": "stream",
     "text": [
      "Prob. at 5.4: 0.0142415974212\n"
     ]
    }
   ],
   "source": [
    "print \"Prob. at 5.4:\",area_under_curve(datalist[0],5.4,5.5)"
   ]
  },
  {
   "cell_type": "code",
   "execution_count": 84,
   "metadata": {
    "collapsed": false
   },
   "outputs": [
    {
     "name": "stdout",
     "output_type": "stream",
     "text": [
      "Prob. at 3.9: 0.0226783217689\n"
     ]
    }
   ],
   "source": [
    "print \"Prob. at 3.9:\",area_under_curve(datalist[0],3.9,4.0)"
   ]
  },
  {
   "cell_type": "markdown",
   "metadata": {},
   "source": [
    "#### Task9: Univariate Analysis\n",
    "Write a function to build a histogarm of the given feature vector (list). Your function should receive two arguments a feature vector (a list) and number of bins and return the built histogram. "
   ]
  },
  {
   "cell_type": "code",
   "execution_count": 141,
   "metadata": {
    "collapsed": false,
    "run_control": {
     "breakpoint": false
    }
   },
   "outputs": [
    {
     "name": "stdout",
     "output_type": "stream",
     "text": [
      "[[1.3999999999999999, 1.3, 1.5, 1.3999999999999999, 1.7, 1.3999999999999999], [1.5, 1.3999999999999999, 1.5, 1.5, 1.6000000000000001, 1.3999999999999999], [1.1000000000000001, 1.2, 1.5, 1.3, 1.3999999999999999, 1.7], [1.5, 1.7, 1.5, 1.0, 1.7, 1.8999999999999999], [1.6000000000000001, 1.6000000000000001, 1.5, 1.3999999999999999, 1.6000000000000001, 1.6000000000000001], [1.5, 1.5, 1.3999999999999999, 1.5, 1.2, 1.3], [1.5, 1.3, 1.5, 1.3, 1.3, 1.3], [1.6000000000000001, 1.8999999999999999, 1.3999999999999999, 1.6000000000000001, 1.3999999999999999, 1.5], [1.3999999999999999, 4.7000000000000002, 4.5, 4.9000000000000004, 4.0, 4.5999999999999996], [4.5, 4.7000000000000002, 3.2999999999999998, 4.5999999999999996, 3.8999999999999999, 3.5], [4.2000000000000002, 4.0, 4.7000000000000002, 3.6000000000000001, 4.4000000000000004, 4.5], [4.0999999999999996, 4.5, 3.8999999999999999, 4.7999999999999998, 4.0, 4.9000000000000004], [4.7000000000000002, 4.2999999999999998, 4.4000000000000004, 4.7999999999999998, 5.0, 4.5], [3.5, 3.7999999999999998, 3.7000000000000002, 3.8999999999999999, 5.0999999999999996, 4.5], [4.5, 4.7000000000000002, 4.4000000000000004, 4.0999999999999996, 4.0, 4.4000000000000004], [4.5999999999999996, 4.0, 3.2999999999999998, 4.2000000000000002, 4.2000000000000002, 4.2000000000000002], [4.2999999999999998, 3.0, 4.0999999999999996, 6.0, 5.0999999999999996, 5.9000000000000004], [5.5999999999999996, 5.7999999999999998, 6.5999999999999996, 4.5, 6.2999999999999998, 5.7999999999999998], [6.0999999999999996, 5.0999999999999996, 5.2999999999999998, 5.5, 5.0, 5.0999999999999996], [5.2999999999999998, 5.5, 6.7000000000000002, 6.9000000000000004, 5.0, 5.7000000000000002], [4.9000000000000004, 6.7000000000000002, 4.9000000000000004, 5.7000000000000002, 6.0, 4.7999999999999998], [4.9000000000000004, 5.5999999999999996, 5.7999999999999998, 6.0999999999999996, 6.4000000000000004, 5.5999999999999996], [5.0999999999999996, 5.5999999999999996, 6.0999999999999996, 5.5999999999999996, 5.5, 4.7999999999999998]]\n"
     ]
    }
   ],
   "source": [
    "def buildHistogram(feature, nbins):\n",
    "    \"\"\" Histogram the feature into number of bins \"\"\"\n",
    "    l1=[range(0,(len(feature)/nbins)-1)]\n",
    "    #print l1[0]\n",
    "    l2=[]\n",
    "    tot_size=(len(feature)/nbins)-1\n",
    "    for i in range(0,tot_size):\n",
    "        l=[]\n",
    "        l2.append(l)\n",
    "    #print l2\n",
    "    for i in range(0,len(feature)-1):\n",
    "        index=int(i/nbins)\n",
    "        #print index,\n",
    "        for j in range(0,tot_size):\n",
    "            #print \"$\",j\n",
    "            if(index==l1[0][j]):\n",
    "                #print \"*\"\n",
    "                l2[index].append(feature[i])\n",
    "    return l2            \n",
    "#############################\n",
    "#Write your code here    \n",
    "print buildHistogram(datalist[0],6)    "
   ]
  },
  {
   "cell_type": "code",
   "execution_count": null,
   "metadata": {
    "collapsed": true
   },
   "outputs": [],
   "source": []
  },
  {
   "cell_type": "markdown",
   "metadata": {},
   "source": [
    "#### Task10: Univariate Analysis\n",
    "Write a function that returns a list containing all the four quantile of the given feature vector."
   ]
  },
  {
   "cell_type": "code",
   "execution_count": null,
   "metadata": {
    "collapsed": false,
    "run_control": {
     "breakpoint": false
    }
   },
   "outputs": [],
   "source": [
    "def getQuantile(features):\n",
    "    \"\"\" Function returns the four quantile of the given feature vector in a list \"\"\"    \n",
    "    quartile=[0]*4\n",
    "    #Write your code here    \n",
    "    sort_f=sorted(copy.copy(features))\n",
    "    quartile[0]=sort_f[ int(0.24*len(features)) ]\n",
    "    quartile[1]=sort_f[ int(0.49*len(features)) ]\n",
    "    quartile[2]=sort_f[ int(0.74*len(features)) ]\n",
    "    quartile[3]=sort_f[ len(features)-1  ]\n",
    "    return quartile\n",
    "#quartile=[0]*4\n",
    "#print quartile\n",
    "print getQuantile(datalist[0])"
   ]
  },
  {
   "cell_type": "markdown",
   "metadata": {},
   "source": [
    "#### Task11: Univariate Analysis\n",
    "Find the outliers in the features petal length and width. Comment on how you have decided on the features which are outliers."
   ]
  },
  {
   "cell_type": "code",
   "execution_count": null,
   "metadata": {
    "collapsed": false,
    "run_control": {
     "breakpoint": false
    }
   },
   "outputs": [],
   "source": [
    "#Write your code here  \n",
    "sp_len=data['SepalLength']\n",
    "sp_wid=data['SepalWidth']"
   ]
  },
  {
   "cell_type": "code",
   "execution_count": null,
   "metadata": {
    "collapsed": true
   },
   "outputs": [],
   "source": [
    "def out_layer_det(arr,mean_v,thresh,E):\n",
    "    l=[]\n",
    "    l2=[]\n",
    "    for i in range(0,arr.shape[0]):\n",
    "        if( mah_dist(arr[i],mean_v,E)>thresh):\n",
    "            #print \"mah:\",mah_dist(arr[i],mean_v,E)\n",
    "            l.append(arr[i])\n",
    "        else:\n",
    "            l2.append(arr[i])    \n",
    "    return np.array(l),np.array(l2)\n",
    "##############################3\n",
    "def cov_matrix(sp_len,sp_wid):\n",
    "        D=np.array([sp_len,sp_wid],dtype='float')#array(sp_wid,sp_len)\n",
    "        u_1=(np.sum(D[0]) )/D[0].size\n",
    "        u_2=(np.sum(D[1]) )/D[1].size\n",
    "        D[0]=D[0]-u_1\n",
    "        D[1]=D[1]-u_2\n",
    "        Z=D#now D is Z so we just..  \n",
    "        return ( np.dot(Z,Z.T) )/Z[0].size\n",
    "#####################\n",
    "def mah_dist(p,q,E):### p and q are the vectors\n",
    "         return np.dot( np.dot( (p-q),np.linalg.inv(E)),(p-q).T )\n",
    "####################\n",
    "def mah_dist_arr(arr_p,q,E):\n",
    "    l=[]\n",
    "    for i in range(0,arr_p.shape[0]):\n",
    "        l.append(mah_dist(arr_p[i],q,E) )\n",
    "    return np.array(l,dtype='float')    "
   ]
  },
  {
   "cell_type": "code",
   "execution_count": null,
   "metadata": {
    "collapsed": false
   },
   "outputs": [],
   "source": [
    "%pylab inline"
   ]
  },
  {
   "cell_type": "code",
   "execution_count": null,
   "metadata": {
    "collapsed": false
   },
   "outputs": [],
   "source": [
    "####now we gona find outliers\n",
    "####step1:calculate the mean vector\n",
    "mean_v=np.array([np.sum(sp_len)/len(sp_len),np.sum(sp_wid)/len(sp_wid)])\n",
    "####step2:calculate the M.D for each point from mean vector\n",
    "E=cov_matrix(sp_len,sp_wid)\n",
    "argv_arr=np.array([sp_len,sp_wid],dtype='float').T\n",
    "####step3:sort the dist\n",
    "####print argv.shape #(150L,2L)\n",
    "####now we have distance of each point from mean vector(mean_v)\n",
    "####in srt_dist in sorted form\n",
    "srt_dist=np.array(sorted(mah_dist_arr(argv_arr,mean_v,E)))\n",
    "index_th=len(srt_dist)*0.8\n",
    "thresh_hold=srt_dist[index_th]###0.0187\n",
    "###step4:calculate the M.D of each point \n",
    "###from the mean vector if it is < thresh_hold then\n",
    "###it (point) will be the outlayer   \n",
    "print thresh_hold\n",
    "tup=out_layer_det(argv_arr,mean_v,thresh_hold,E)\n",
    "out_layer=tup[0].T\n",
    "in_layer=tup[1].T\n",
    "plt.scatter(out_layer[0],out_layer[1],c='g')\n",
    "plt.scatter(in_layer[0],in_layer[1],c='r')"
   ]
  },
  {
   "cell_type": "markdown",
   "metadata": {},
   "source": [
    "#### Task12: Multivariate Analysis\n",
    "Lets model the petal length and width as a bivariate Bernoulli random variable by categorizing the petal length (< 4.9cm) and petal width as short(< 1.6cm) and vice versa. Suppose that petal length is represented by random variable $x$ and petal width by random variable $y$. Now write the code for finding the probability of following cases:\n",
    "$$P(x=0, y=0)= ?$$\n",
    "$$P(x=0, y=1)= ?$$\n",
    "$$P(x=1, y=0)= ?$$\n",
    "$$P(x=1, y=1)= ?$$\n",
    "\n",
    "Here $x=0$ represent the flowers with short petal length and $x=1$ represent the flower with long petal length..\n"
   ]
  },
  {
   "cell_type": "code",
   "execution_count": 100,
   "metadata": {
    "collapsed": false
   },
   "outputs": [
    {
     "name": "stdout",
     "output_type": "stream",
     "text": [
      "count(0,0)= 92\n"
     ]
    }
   ],
   "source": [
    "#Write your code here\n",
    "def prob_n_0_0(l_1,l_2,x,y):###x is len and y is wid\n",
    "    count=0\n",
    "    for i in range(0,len(l_1)-1):\n",
    "           if(l_1[i]<x and l_2[i]<y):\n",
    "                count+=1\n",
    "    return count\n",
    "#########for P(0,0)\n",
    "print \"count(0,0)=\",prob_n_0_0(datalist[0],datalist[1],4.9,1.6)"
   ]
  },
  {
   "cell_type": "code",
   "execution_count": 99,
   "metadata": {
    "collapsed": false
   },
   "outputs": [
    {
     "name": "stdout",
     "output_type": "stream",
     "text": [
      "count(0,1)= 6\n"
     ]
    }
   ],
   "source": [
    "#Write your code here\n",
    "def prob_n_0_1(l_1,l_2,x,y):###x is len and y is wid\n",
    "    count=0\n",
    "    for i in range(0,len(l_1)-1):\n",
    "           if(l_1[i]<x and l_2[i]>=y):\n",
    "                count+=1\n",
    "    return count\n",
    "#########for P(0,0)\n",
    "print \"count(0,1)=\",prob_n_0_1(datalist[0],datalist[1],4.9,1.6)"
   ]
  },
  {
   "cell_type": "code",
   "execution_count": 143,
   "metadata": {
    "collapsed": false
   },
   "outputs": [
    {
     "name": "stdout",
     "output_type": "stream",
     "text": [
      "count(1,0)= 5\n"
     ]
    }
   ],
   "source": [
    "#Write your code here\n",
    "def prob_n_1_0(l_1,l_2,x,y):###x is len and y is wid\n",
    "    count=0\n",
    "    for i in range(0,len(l_1)-1):\n",
    "           if(l_1[i]>=x and l_2[i]<y):\n",
    "                count+=1\n",
    "    return count\n",
    "#########for P(0,0)\n",
    "print \"count(1,0)=\",prob_n_1_0(datalist[0],datalist[1],4.9,1.6)"
   ]
  },
  {
   "cell_type": "code",
   "execution_count": 144,
   "metadata": {
    "collapsed": false
   },
   "outputs": [
    {
     "name": "stdout",
     "output_type": "stream",
     "text": [
      "count(1,1)= 45\n"
     ]
    }
   ],
   "source": [
    "#Write your code here\n",
    "def prob_n_1_1(l_1,l_2,x,y):###x is len and y is wid\n",
    "    count=0\n",
    "    for i in range(0,len(l_1)-1):\n",
    "           if(l_1[i]>=x and l_2[i]>=y):\n",
    "                count+=1\n",
    "    return count\n",
    "#########for P(0,0)\n",
    "print \"count(1,1)=\",prob_n_1_1(datalist[0],datalist[1],4.9,1.6)"
   ]
  },
  {
   "cell_type": "code",
   "execution_count": 142,
   "metadata": {
    "collapsed": false
   },
   "outputs": [
    {
     "name": "stdout",
     "output_type": "stream",
     "text": [
      "P(x=0,y=0): 0.613333333333\n",
      "P(x=0,y=1): 0.04\n",
      "P(x=1,y=0): 0.0333333333333\n",
      "P(x=1,y=1): 0.3\n",
      "Total: 0.986666666667\n"
     ]
    }
   ],
   "source": [
    "P_x_0_y_0=92/150.0\n",
    "P_x_0_y_1=6/150.0\n",
    "P_x_1_y_0=5/150.0\n",
    "P_x_1_y_1=45/150.0\n",
    "print \"P(x=0,y=0):\",P_x_0_y_0\n",
    "print \"P(x=0,y=1):\",P_x_0_y_1\n",
    "print \"P(x=1,y=0):\",P_x_1_y_0\n",
    "print \"P(x=1,y=1):\",P_x_1_y_1\n",
    "\n",
    "print \"Total:\",P_x_0_y_0+P_x_0_y_1+P_x_1_y_0+P_x_1_y_1"
   ]
  },
  {
   "cell_type": "markdown",
   "metadata": {},
   "source": [
    "#### Task13: Multivariate Analysis\n",
    "What will be probability of seeing of flower with long petal length ? Find the result using marginalization principle."
   ]
  },
  {
   "cell_type": "code",
   "execution_count": 101,
   "metadata": {
    "collapsed": false
   },
   "outputs": [
    {
     "name": "stdout",
     "output_type": "stream",
     "text": [
      "P(1,0)+P(0,1)= 0.0733333333333\n"
     ]
    }
   ],
   "source": [
    "print \"P(1,0)+P(0,1)=\",P_x_1_y_0+P_x_0_y_1"
   ]
  },
  {
   "cell_type": "code",
   "execution_count": null,
   "metadata": {
    "collapsed": false,
    "run_control": {
     "breakpoint": false
    }
   },
   "outputs": [],
   "source": [
    "\"\"\"\n",
    "###means that: P(long_petal_length,long_sepal_width)+\n",
    "###P(long_petal_length,short_sepal_width)\n",
    "###x is for petal\n",
    "###\n",
    "print (x_long_1*y_long_1)+(x_long_1*y_short_0)\n",
    "\"\"\""
   ]
  },
  {
   "cell_type": "markdown",
   "metadata": {},
   "source": [
    "#### Task14: Multivariate Analysis\n",
    "Lets model the sepal length, sepal width, petal length and width as a multivariate Bernoulli random variable by categorizing the sepal length  as (short< 7.1cm), sepal width (short< 3.1cm), petal length (short< 4.9cm) and petal width (short< 1.6cm) and vice versa. Suppose that all four measures are represented by random variables $x_1, x_2, x_3, x_4$ respectively. Now write the code for finding the probability of the following cases:\n",
    "$$p(x_1=1, x_2=1, x_3=0, x_4=1)$$\n",
    "$$p(x_1=0, x_2=1, x_3=0, x_4=1)$$\n",
    "$$p(x_1=0, x_2=0, x_3=0, x_4=1)$$\n",
    "$$p(x_1=1, x_2=1, x_3=1, x_4=1)$$\n",
    "\n",
    "Here $x_i=0$ represent the flowers with short featuers and $x_i=1$ represent the flower with long feature.\n"
   ]
  },
  {
   "cell_type": "code",
   "execution_count": 88,
   "metadata": {
    "collapsed": false
   },
   "outputs": [
    {
     "name": "stdout",
     "output_type": "stream",
     "text": [
      "count(1,1,0,1)= 0\n"
     ]
    }
   ],
   "source": [
    "#Write your code here\n",
    "###sp_len(short< 7.1cm),sp_wid(short < 3.1cm)\n",
    "###pet_len(short< 4.9cm),pet_wid(short < 1.6cm)\n",
    "###datalist[0]='PetalLength',datalist[1]='PetalWidth'\n",
    "###datalist[2]='SepalLength',datalist[3]='SepalWidth'\n",
    "def prob_n_1_1_0_1(l_1,l_2,l_3,l_4,x1,x2,x3,x4):###x is len and y is wid\n",
    "    count=0\n",
    "    for i in range(0,len(l_1)-1):\n",
    "           if(l_1[i]>=x1 and l_2[i]>=x2 and l_3[i]<x3 and l_4[i]>=x4):\n",
    "                count+=1\n",
    "    return count\n",
    "#########for P(1,1,0,1)\n",
    "print \"count(1,1,0,1)=\",prob_n_1_1_0_1(datalist[2],datalist[3],datalist[0],datalist[1],7.1,3.1,4.9,1.6)\n"
   ]
  },
  {
   "cell_type": "code",
   "execution_count": 89,
   "metadata": {
    "collapsed": false
   },
   "outputs": [
    {
     "name": "stdout",
     "output_type": "stream",
     "text": [
      "count(0,1,0,1)= 3\n"
     ]
    }
   ],
   "source": [
    "# Write your code here\n",
    "###sp_len(short< 7.1cm),sp_wid(short < 3.1cm)\n",
    "###pet_len(short< 4.9cm),pet_wid(short < 1.6cm)\n",
    "###datalist[0]='PetalLength',datalist[1]='PetalWidth'\n",
    "###datalist[2]='SepalLength',datalist[3]='SepalWidth'\n",
    "def prob_n_0_1_0_1(l_1,l_2,l_3,l_4,x1,x2,x3,x4):###x is len and y is wid\n",
    "    count=0\n",
    "    for i in range(0,len(l_1)-1):\n",
    "           if(l_1[i]<x1 and l_2[i]>=x2 and l_3[i]<x3 and l_4[i]>=x4):\n",
    "                count+=1\n",
    "    return count\n",
    "#########for P(0,1,0,1)\n",
    "print \"count(0,1,0,1)=\",prob_n_0_1_0_1(datalist[2],datalist[3],datalist[0],datalist[1],7.1,3.1,4.9,1.6)\n"
   ]
  },
  {
   "cell_type": "code",
   "execution_count": 90,
   "metadata": {
    "collapsed": false
   },
   "outputs": [
    {
     "name": "stdout",
     "output_type": "stream",
     "text": [
      "count(0,0,0,1)= 3\n"
     ]
    }
   ],
   "source": [
    "#Write your code here\n",
    "###sp_len(short< 7.1cm),sp_wid(short < 3.1cm)\n",
    "###pet_len(short< 4.9cm),pet_wid(short < 1.6cm)\n",
    "###datalist[0]='PetalLength',datalist[1]='PetalWidth'\n",
    "###datalist[2]='SepalLength',datalist[3]='SepalWidth'\n",
    "def prob_n_0_0_0_1(l_1,l_2,l_3,l_4,x1,x2,x3,x4):###x is len and y is wid\n",
    "    count=0\n",
    "    for i in range(0,len(l_1)-1):\n",
    "           if(l_1[i]<x1 and l_2[i]<x2 and l_3[i]<x3 and l_4[i]>=x4):\n",
    "                count+=1\n",
    "    return count\n",
    "#########for P(0,0,0,1)\n",
    "print \"count(0,0,0,1)=\",prob_n_0_0_0_1(datalist[2],datalist[3],datalist[0],datalist[1],7.1,3.1,4.9,1.6)\n"
   ]
  },
  {
   "cell_type": "code",
   "execution_count": 91,
   "metadata": {
    "collapsed": false
   },
   "outputs": [
    {
     "name": "stdout",
     "output_type": "stream",
     "text": [
      "count(1,1,1,1)= 4\n"
     ]
    }
   ],
   "source": [
    "#Write your code here\n",
    "###sp_len(short< 7.1cm),sp_wid(short < 3.1cm)\n",
    "###pet_len(short< 4.9cm),pet_wid(short < 1.6cm)\n",
    "###datalist[0]='PetalLength',datalist[1]='PetalWidth'\n",
    "###datalist[2]='SepalLength',datalist[3]='SepalWidth'\n",
    "def prob_n_1_1_1_1(l_1,l_2,l_3,l_4,x1,x2,x3,x4):###x is len and y is wid\n",
    "    count=0\n",
    "    for i in range(0,len(l_1)-1):\n",
    "           if(l_1[i]>=x1 and l_2[i]>=x2 and l_3[i]>=x3 and l_4[i]>=x4):\n",
    "                count+=1\n",
    "    return count\n",
    "#########for P(1,1,1,1)\n",
    "print \"count(1,1,1,1)=\",prob_n_1_1_1_1(datalist[2],datalist[3],datalist[0],datalist[1],7.1,3.1,4.9,1.6)\n"
   ]
  },
  {
   "cell_type": "code",
   "execution_count": 102,
   "metadata": {
    "collapsed": false
   },
   "outputs": [
    {
     "name": "stdout",
     "output_type": "stream",
     "text": [
      "P(1,1,0,1) 0.0\n",
      "P(0,1,0,1) 0.02\n",
      "P(0,0,0,1) 0.02\n",
      "P(1,1,1,1) 0.0266666666667\n"
     ]
    }
   ],
   "source": [
    "p_1_1_0_1=0/150.0\n",
    "p_0_1_0_1=3/150.0\n",
    "p_0_0_0_1=3/150.0\n",
    "p_1_1_1_1=4/150.0\n",
    "print \"P(1,1,0,1)\",p_1_1_0_1\n",
    "print \"P(0,1,0,1)\",p_0_1_0_1\n",
    "print \"P(0,0,0,1)\",p_0_0_0_1\n",
    "print \"P(1,1,1,1)\",p_1_1_1_1"
   ]
  },
  {
   "cell_type": "markdown",
   "metadata": {},
   "source": [
    "#### Task15: Multivariate Analysis\n",
    "Find the following probabilities using marginalization principle:\n",
    "$$p(x_1=1, x_2=1,  x_4=1)$$\n",
    "$$p(x_1=0, x_4=1)$$"
   ]
  },
  {
   "cell_type": "code",
   "execution_count": 106,
   "metadata": {
    "collapsed": false,
    "run_control": {
     "breakpoint": false
    }
   },
   "outputs": [
    {
     "name": "stdout",
     "output_type": "stream",
     "text": [
      "p(x1=1,x2=1,x4=1)= p(x1=0,x2=1,x3=0,x4=1)+p(x1=0,x2=1,x3=1,x4=1):\n",
      "0.0266666666667\n"
     ]
    }
   ],
   "source": [
    "#Write your code here\n",
    "###p(x1=1,x2=1,x4=1)=p(x1=0,x2=1,x3=0,x4=1)+p(x1=0,x2=1,x3=1,x4=1)\n",
    "print  \"p(x1=1,x2=1,x4=1)= p(x1=0,x2=1,x3=0,x4=1)+p(x1=0,x2=1,x3=1,x4=1):\"\n",
    "print  p_1_1_0_1+p_1_1_1_1 "
   ]
  },
  {
   "cell_type": "code",
   "execution_count": 94,
   "metadata": {
    "collapsed": false
   },
   "outputs": [
    {
     "name": "stdout",
     "output_type": "stream",
     "text": [
      "count(0,0,1,1)= 20\n"
     ]
    }
   ],
   "source": [
    "#Write your code here\n",
    "###sp_len(short< 7.1cm),sp_wid(short < 3.1cm)\n",
    "###pet_len(short< 4.9cm),pet_wid(short < 1.6cm)\n",
    "###datalist[0]='PetalLength',datalist[1]='PetalWidth'\n",
    "###datalist[2]='SepalLength',datalist[3]='SepalWidth'\n",
    "def prob_n_0_0_1_1(l_1,l_2,l_3,l_4,x1,x2,x3,x4):###x is len and y is wid\n",
    "    count=0\n",
    "    for i in range(0,len(l_1)-1):\n",
    "           if(l_1[i]<x1 and l_2[i]<x2 and l_3[i]>=x3 and l_4[i]>=x4):\n",
    "                count+=1\n",
    "    return count\n",
    "#########for P(1,1,1,1)\n",
    "print \"count(0,0,1,1)=\",prob_n_0_0_1_1(datalist[2],datalist[3],datalist[0],datalist[1],7.1,3.1,4.9,1.6)\n"
   ]
  },
  {
   "cell_type": "code",
   "execution_count": 95,
   "metadata": {
    "collapsed": false
   },
   "outputs": [
    {
     "name": "stdout",
     "output_type": "stream",
     "text": [
      "count(0,1,1,1)= 13\n"
     ]
    }
   ],
   "source": [
    "#Write your code here\n",
    "###sp_len(short< 7.1cm),sp_wid(short < 3.1cm)\n",
    "###pet_len(short< 4.9cm),pet_wid(short < 1.6cm)\n",
    "###datalist[0]='PetalLength',datalist[1]='PetalWidth'\n",
    "###datalist[2]='SepalLength',datalist[3]='SepalWidth'\n",
    "def prob_n_0_1_1_1(l_1,l_2,l_3,l_4,x1,x2,x3,x4):###x is len and y is wid\n",
    "    count=0\n",
    "    for i in range(0,len(l_1)-1):\n",
    "           if(l_1[i]<x1 and l_2[i]>=x2 and l_3[i]>=x3 and l_4[i]>=x4):\n",
    "                count+=1\n",
    "    return count\n",
    "#########for P(1,1,1,1)\n",
    "print \"count(0,1,1,1)=\",prob_n_0_1_1_1(datalist[2],datalist[3],datalist[0],datalist[1],7.1,3.1,4.9,1.6)\n"
   ]
  },
  {
   "cell_type": "code",
   "execution_count": 107,
   "metadata": {
    "collapsed": false
   },
   "outputs": [
    {
     "name": "stdout",
     "output_type": "stream",
     "text": [
      "p(x1=0,x4=1)= 0.26\n"
     ]
    }
   ],
   "source": [
    "###p(x1=0,x4=1)=p(x1=0,x2=0,x3=0,x4=1)+p(x1=0,x2=1,x3=0,x4=1)+p(x1=0,x2=0,x3=1,x4=1)\n",
    "###p(x1=0,x2=1,x3=1,x4=1)\n",
    "p_0_0_1_1=20/150.0\n",
    "p_0_1_1_1=13/150.0\n",
    "print \"p(x1=0,x4=1)=\", p_0_0_0_1+p_0_1_0_1+p_0_0_1_1+p_0_1_1_1"
   ]
  }
 ],
 "metadata": {
  "anaconda-cloud": {},
  "kernelspec": {
   "display_name": "Python [default]",
   "language": "python",
   "name": "python2"
  },
  "language_info": {
   "codemirror_mode": {
    "name": "ipython",
    "version": 2
   },
   "file_extension": ".py",
   "mimetype": "text/x-python",
   "name": "python",
   "nbconvert_exporter": "python",
   "pygments_lexer": "ipython2",
   "version": "2.7.12"
  }
 },
 "nbformat": 4,
 "nbformat_minor": 0
}
