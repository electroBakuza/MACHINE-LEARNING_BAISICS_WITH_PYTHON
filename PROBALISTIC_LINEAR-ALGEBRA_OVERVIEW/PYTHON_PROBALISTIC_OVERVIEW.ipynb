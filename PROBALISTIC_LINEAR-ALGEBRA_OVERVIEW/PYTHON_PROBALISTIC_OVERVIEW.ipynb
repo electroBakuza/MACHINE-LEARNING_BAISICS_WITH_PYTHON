{
 "cells": [
  {
   "cell_type": "markdown",
   "metadata": {
    "collapsed": true
   },
   "source": [
    "# PART 1b\n",
    "## Shahwaiz\n",
    "----\n",
    "## Goal\n",
    "\n",
    "Your goal in this assigment is to implement and refresh the multivariate concepts learned during the previous weeks using the Python language. This will not only solidify your Python understanding but also give you strong footing for further advancement :)\n",
    "\n",
    "**Note** Please note that can use *numpy and scipy* to complete the tasks. In case you need any help you can post on Piazza."
   ]
  },
  {
   "cell_type": "markdown",
   "metadata": {},
   "source": [
    "**So Lets Start**"
   ]
  },
  {
   "cell_type": "code",
   "execution_count": 15,
   "metadata": {
    "collapsed": false
   },
   "outputs": [
    {
     "name": "stdout",
     "output_type": "stream",
     "text": [
      "Populating the interactive namespace from numpy and matplotlib\n"
     ]
    }
   ],
   "source": [
    "# magic command to include all the necessary libraries\n",
    "%pylab inline "
   ]
  },
  {
   "cell_type": "code",
   "execution_count": 1,
   "metadata": {
    "collapsed": false,
    "run_control": {
     "breakpoint": false
    }
   },
   "outputs": [
    {
     "name": "stdout",
     "output_type": "stream",
     "text": [
      "--2015-03-03 17:31:57--  http://archive.ics.uci.edu/ml/machine-learning-databases/iris/iris.data\n",
      "Resolving archive.ics.uci.edu (archive.ics.uci.edu)... ^C\n"
     ]
    }
   ],
   "source": [
    "#Download the IRIS dataset\n",
    "#\"!\" means run the bash (shell) command\n",
    "!wget http://archive.ics.uci.edu/ml/machine-learning-databases/iris/iris.data"
   ]
  },
  {
   "cell_type": "code",
   "execution_count": 6,
   "metadata": {
    "collapsed": false,
    "run_control": {
     "breakpoint": false
    }
   },
   "outputs": [],
   "source": [
    "#import pandas and name this namespace as pd\n",
    "import pandas as pd"
   ]
  },
  {
   "cell_type": "code",
   "execution_count": 7,
   "metadata": {
    "collapsed": false,
    "run_control": {
     "breakpoint": false
    }
   },
   "outputs": [
    {
     "name": "stdout",
     "output_type": "stream",
     "text": [
      "       SepalLength  SepalWidth  PetalLength  PetalWidth\n",
      "count   149.000000  149.000000   149.000000  149.000000\n",
      "mean      5.848322    3.051007     3.774497    1.205369\n",
      "std       0.828594    0.433499     1.759651    0.761292\n",
      "min       4.300000    2.000000     1.000000    0.100000\n",
      "25%       5.100000    2.800000     1.600000    0.300000\n",
      "50%       5.800000    3.000000     4.400000    1.300000\n",
      "75%       6.400000    3.300000     5.100000    1.800000\n",
      "max       7.900000    4.400000     6.900000    2.500000\n"
     ]
    }
   ],
   "source": [
    "#Load data and name the columns\n",
    "data=pd.read_csv('iris.data')\n",
    "data.columns=['SepalLength','SepalWidth','PetalLength','PetalWidth','Class']\n",
    "print data.describe()"
   ]
  },
  {
   "cell_type": "code",
   "execution_count": 12,
   "metadata": {
    "collapsed": false,
    "run_control": {
     "breakpoint": false
    }
   },
   "outputs": [
    {
     "name": "stdout",
     "output_type": "stream",
     "text": [
      "\n"
     ]
    }
   ],
   "source": [
    "#Code for generating data....\n",
    "datalist=[] #create an empty list\n",
    "# data list is a list of two elements, where index=0 contains data corresponding to petal \n",
    "# length and index=1 contains data corresponding to petal width\n",
    "datalist.append(list(data['PetalLength'].dropna()))\n",
    "datalist.append(list(data['PetalWidth'].dropna()))\n",
    "datalist.append(list(data['SepalLength'].dropna()))\n",
    "datalist.append(list(data['SepalWidth'].dropna()))\n",
    "\n",
    "#If you want you build a numpy array from this list.\n",
    "\n",
    "#print \"PetalLength=\", datalist[0]\n",
    "#print \"PetalWidth=\", datalist[1]\n",
    "\n",
    "#This and above code are both same...\n",
    "# datalist=[0]*2#create a list of 2 elements\n",
    "# datalist[0]=(list(data['PetalLength'].dropna()))\n",
    "# datalist[1]=(list(data['PetalWidth'].dropna()))\n",
    "#data list is a list of two elements, where index=0 contains data corresponding to petal \n",
    "# length and index=1 contains data corresponding to petal width\n",
    "# print(\"PetalLength=\", datalist[0])\n",
    "# print(\"PetalWidth=\", datalist[1])"
   ]
  },
  {
   "cell_type": "code",
   "execution_count": 16,
   "metadata": {
    "collapsed": false
   },
   "outputs": [
    {
     "data": {
      "text/plain": [
       "<matplotlib.collections.PathCollection at 0x9452ef0>"
      ]
     },
     "execution_count": 16,
     "metadata": {},
     "output_type": "execute_result"
    },
    {
     "data": {
      "image/png": "[encoded data removed]",
      "text/plain": [
       "<matplotlib.figure.Figure at 0x9214ba8>"
      ]
     },
     "metadata": {},
     "output_type": "display_data"
    }
   ],
   "source": [
    "plt.scatter(datalist[0],datalist[1])"
   ]
  },
  {
   "cell_type": "markdown",
   "metadata": {},
   "source": [
    "*In all the tasks given below use the list variable `datalist` (defined above) to answer all the questions.*\n",
    "\n",
    "#### Task1\n",
    "----------------\n",
    "Lets model the petal length and width as continuous random variable $X=(x_1,x_2)$. Find the empirical mean of this random variable. Here $x_1$ specifies the petal length and $x_2$ its width."
   ]
  },
  {
   "cell_type": "code",
   "execution_count": 23,
   "metadata": {
    "collapsed": false,
    "run_control": {
     "breakpoint": false
    }
   },
   "outputs": [
    {
     "name": "stdout",
     "output_type": "stream",
     "text": [
      "(2L,)\n"
     ]
    }
   ],
   "source": [
    "#Write your code here\n",
    "import copy \n",
    "mean_pl=sum(datalist[0])/len(datalist[0])\n",
    "mean_pw=sum(datalist[1])/len(datalist[1])\n",
    "mean_v = np.array([mean_pw,mean_pl])\n",
    "print mean_v.shape"
   ]
  },
  {
   "cell_type": "markdown",
   "metadata": {},
   "source": [
    "#### Task2\n",
    "----------------\n",
    "Compute the covariance matrix $X$ using outper product formula, i.e. $\\Sigma=\\frac{1}{n}Z^T\\;Z$, where $Z$ is centered data matrix (mean = 0)"
   ]
  },
  {
   "cell_type": "code",
   "execution_count": 24,
   "metadata": {
    "collapsed": false,
    "run_control": {
     "breakpoint": false
    }
   },
   "outputs": [
    {
     "name": "stdout",
     "output_type": "stream",
     "text": [
      "[[ 1.53779559  0.64023625]\n",
      " [ 0.64023625  0.28783794]]\n"
     ]
    }
   ],
   "source": [
    "#Write your code here\n",
    "z1=copy.copy(datalist[0])-mean_v[1]\n",
    "z2=copy.copy(datalist[1])-mean_v[0]\n",
    "\n",
    "Z=np.array( [ z1 , z2 ] )\n",
    "E=np.dot( (Z)/Z.size ,Z.T)\n",
    "print E \n",
    "#print E\n",
    "#print np.var(datalist[0]) "
   ]
  },
  {
   "cell_type": "code",
   "execution_count": 18,
   "metadata": {
    "collapsed": false
   },
   "outputs": [
    {
     "name": "stdout",
     "output_type": "stream",
     "text": [
      "[[ 3.09637221  1.28912434]\n",
      " [ 1.28912434  0.57956557]]\n"
     ]
    }
   ],
   "source": [
    "E=np.cov(np.array([datalist[0],datalist[1] ]) )\n",
    "print E"
   ]
  },
  {
   "cell_type": "code",
   "execution_count": 30,
   "metadata": {
    "collapsed": false
   },
   "outputs": [
    {
     "name": "stdout",
     "output_type": "stream",
     "text": [
      "[[ 1.4  1.3  1.5  1.4  1.7  1.4  1.5  1.4  1.5  1.5  1.6  1.4  1.1  1.2\n",
      "   1.5  1.3  1.4  1.7  1.5  1.7  1.5  1.   1.7  1.9  1.6  1.6  1.5  1.4\n",
      "   1.6  1.6  1.5  1.5  1.4  1.5  1.2  1.3  1.5  1.3  1.5  1.3  1.3  1.3\n",
      "   1.6  1.9  1.4  1.6  1.4  1.5  1.4  4.7  4.5  4.9  4.   4.6  4.5  4.7\n",
      "   3.3  4.6  3.9  3.5  4.2  4.   4.7  3.6  4.4  4.5  4.1  4.5  3.9  4.8  4.\n",
      "   4.9  4.7  4.3  4.4  4.8  5.   4.5  3.5  3.8  3.7  3.9  5.1  4.5  4.5\n",
      "   4.7  4.4  4.1  4.   4.4  4.6  4.   3.3  4.2  4.2  4.2  4.3  3.   4.1  6.\n",
      "   5.1  5.9  5.6  5.8  6.6  4.5  6.3  5.8  6.1  5.1  5.3  5.5  5.   5.1\n",
      "   5.3  5.5  6.7  6.9  5.   5.7  4.9  6.7  4.9  5.7  6.   4.8  4.9  5.6\n",
      "   5.8  6.1  6.4  5.6  5.1  5.6  6.1  5.6  5.5  4.8  5.4  5.6  5.1  5.1\n",
      "   5.9  5.7  5.2  5.   5.2  5.4  5.1]\n",
      " [ 0.2  0.2  0.2  0.2  0.4  0.3  0.2  0.2  0.1  0.2  0.2  0.1  0.1  0.2\n",
      "   0.4  0.4  0.3  0.3  0.3  0.2  0.4  0.2  0.5  0.2  0.2  0.4  0.2  0.2\n",
      "   0.2  0.2  0.4  0.1  0.2  0.1  0.2  0.2  0.1  0.2  0.2  0.3  0.3  0.2\n",
      "   0.6  0.4  0.3  0.2  0.2  0.2  0.2  1.4  1.5  1.5  1.3  1.5  1.3  1.6  1.\n",
      "   1.3  1.4  1.   1.5  1.   1.4  1.3  1.4  1.5  1.   1.5  1.1  1.8  1.3\n",
      "   1.5  1.2  1.3  1.4  1.4  1.7  1.5  1.   1.1  1.   1.2  1.6  1.5  1.6\n",
      "   1.5  1.3  1.3  1.3  1.2  1.4  1.2  1.   1.3  1.2  1.3  1.3  1.1  1.3\n",
      "   2.5  1.9  2.1  1.8  2.2  2.1  1.7  1.8  1.8  2.5  2.   1.9  2.1  2.   2.4\n",
      "   2.3  1.8  2.2  2.3  1.5  2.3  2.   2.   1.8  2.1  1.8  1.8  1.8  2.1\n",
      "   1.6  1.9  2.   2.2  1.5  1.4  2.3  2.4  1.8  1.8  2.1  2.4  2.3  1.9\n",
      "   2.3  2.5  2.3  1.9  2.   2.3  1.8]\n",
      " [ 4.9  4.7  4.6  5.   5.4  4.6  5.   4.4  4.9  5.4  4.8  4.8  4.3  5.8\n",
      "   5.7  5.4  5.1  5.7  5.1  5.4  5.1  4.6  5.1  4.8  5.   5.   5.2  5.2\n",
      "   4.7  4.8  5.4  5.2  5.5  4.9  5.   5.5  4.9  4.4  5.1  5.   4.5  4.4  5.\n",
      "   5.1  4.8  5.1  4.6  5.3  5.   7.   6.4  6.9  5.5  6.5  5.7  6.3  4.9\n",
      "   6.6  5.2  5.   5.9  6.   6.1  5.6  6.7  5.6  5.8  6.2  5.6  5.9  6.1\n",
      "   6.3  6.1  6.4  6.6  6.8  6.7  6.   5.7  5.5  5.5  5.8  6.   5.4  6.   6.7\n",
      "   6.3  5.6  5.5  5.5  6.1  5.8  5.   5.6  5.7  5.7  6.2  5.1  5.7  6.3\n",
      "   5.8  7.1  6.3  6.5  7.6  4.9  7.3  6.7  7.2  6.5  6.4  6.8  5.7  5.8\n",
      "   6.4  6.5  7.7  7.7  6.   6.9  5.6  7.7  6.3  6.7  7.2  6.2  6.1  6.4\n",
      "   7.2  7.4  7.9  6.4  6.3  6.1  7.7  6.3  6.4  6.   6.9  6.7  6.9  5.8\n",
      "   6.8  6.7  6.7  6.3  6.5  6.2  5.9]\n",
      " [ 3.   3.2  3.1  3.6  3.9  3.4  3.4  2.9  3.1  3.7  3.4  3.   3.   4.   4.4\n",
      "   3.9  3.5  3.8  3.8  3.4  3.7  3.6  3.3  3.4  3.   3.4  3.5  3.4  3.2\n",
      "   3.1  3.4  4.1  4.2  3.1  3.2  3.5  3.1  3.   3.4  3.5  2.3  3.2  3.5\n",
      "   3.8  3.   3.8  3.2  3.7  3.3  3.2  3.2  3.1  2.3  2.8  2.8  3.3  2.4\n",
      "   2.9  2.7  2.   3.   2.2  2.9  2.9  3.1  3.   2.7  2.2  2.5  3.2  2.8\n",
      "   2.5  2.8  2.9  3.   2.8  3.   2.9  2.6  2.4  2.4  2.7  2.7  3.   3.4\n",
      "   3.1  2.3  3.   2.5  2.6  3.   2.6  2.3  2.7  3.   2.9  2.9  2.5  2.8\n",
      "   3.3  2.7  3.   2.9  3.   3.   2.5  2.9  2.5  3.6  3.2  2.7  3.   2.5\n",
      "   2.8  3.2  3.   3.8  2.6  2.2  3.2  2.8  2.8  2.7  3.3  3.2  2.8  3.   2.8\n",
      "   3.   2.8  3.8  2.8  2.8  2.6  3.   3.4  3.1  3.   3.1  3.1  3.1  2.7\n",
      "   3.2  3.3  3.   2.5  3.   3.4  3. ]]\n"
     ]
    },
    {
     "data": {
      "text/plain": [
       "<matplotlib.collections.PathCollection at 0xa4e7f60>"
      ]
     },
     "execution_count": 30,
     "metadata": {},
     "output_type": "execute_result"
    },
    {
     "data": {
      "image/png": "[encoded data removed]",
      "text/plain": [
       "<matplotlib.figure.Figure at 0xa4524a8>"
      ]
     },
     "metadata": {},
     "output_type": "display_data"
    }
   ],
   "source": [
    "s=np.array(datalist)\n",
    "print s\n",
    "plt.scatter(s[0:50,0],s[0:50,1])"
   ]
  },
  {
   "cell_type": "markdown",
   "metadata": {},
   "source": [
    "#### Task3: Multivariate Gaussian\n",
    "----------------\n",
    "Let's model $X$ with multivariate Gaussian. Find the probability of having flowers with petal width and height in the following range $P(3.5 < x_1 < 3.7,5.5 < x_2 <5.6)$.\n",
    "Recall that \n",
    "$$f_{\\mathbf x}(x_1,\\ldots,x_k) = \\frac{1}{\\sqrt{(2\\pi)^k|\\boldsymbol\\Sigma|}} \\exp\\left(-\\frac{1}{2}({\\mathbf x}-{\\boldsymbol\\mu})^\\mathrm{T}{\\boldsymbol\\Sigma}^{-1}({\\mathbf x}-{\\boldsymbol\\mu}) \\right)$$\n",
    "\n",
    "where ${\\mathbf x}$ is a real k-dimensional column vector and $|\\boldsymbol\\Sigma|$ is the determinant of $\\boldsymbol\\Sigma$. For our this case $k=2$ "
   ]
  },
  {
   "cell_type": "code",
   "execution_count": null,
   "metadata": {
    "collapsed": false,
    "run_control": {
     "breakpoint": false
    }
   },
   "outputs": [],
   "source": [
    "#Write your code here, you are not allowed to use scipy and numpy function here... \n",
    "###step1:find value of X vecctor x=[x1,x2]\n",
    "###x1, x2 are mid point of first and second interval\n",
    "###step2:find values of epsolone1 ,eps2 \n",
    "###eps1=(max1-min1)/2 and eps2=(max2-min2)/2\n",
    "###formula is (2*eps1)*(2*eps2)*f(X)\n",
    "###here k is 2\n",
    "sqrt_2pie_E= ( ((2*3.1415)**2)*(np.linalg.norm(E)) )**.5\n",
    "print sqrt_2pie_E"
   ]
  },
  {
   "cell_type": "code",
   "execution_count": null,
   "metadata": {
    "collapsed": false
   },
   "outputs": [],
   "source": [
    "X= np.array( [ (3.5+3.7)/2.0,(5.5+5.6)/2.0  ] )\n",
    "print X.shape\n",
    "#norm.pdf(X)"
   ]
  },
  {
   "cell_type": "code",
   "execution_count": null,
   "metadata": {
    "collapsed": false
   },
   "outputs": [],
   "source": [
    "print mean_v.shape"
   ]
  },
  {
   "cell_type": "code",
   "execution_count": null,
   "metadata": {
    "collapsed": false
   },
   "outputs": [],
   "source": [
    "###(X-mean_v).T*inverse(E)*(X-mean_v)\n",
    "print mean_v.shape\n",
    "X_sub_mean=( X-mean_v )/-2\n",
    "\n",
    "print X_sub_mean.shape\n",
    "E_inv=np.linalg.inv(E)\n",
    "tmp=np.dot(X_sub_mean.T,E_inv)\n",
    "power = np.dot(tmp,X_sub_mean)\n",
    "#print (X-mean_v).shape\n",
    "print power"
   ]
  },
  {
   "cell_type": "code",
   "execution_count": null,
   "metadata": {
    "collapsed": false
   },
   "outputs": [],
   "source": [
    "exp_power=2.71**(power)\n",
    "print exp_power"
   ]
  },
  {
   "cell_type": "code",
   "execution_count": null,
   "metadata": {
    "collapsed": false
   },
   "outputs": [],
   "source": [
    "f_x=(1/(sqrt_2pie_E)) * exp_power\n",
    "print f_x"
   ]
  },
  {
   "cell_type": "code",
   "execution_count": null,
   "metadata": {
    "collapsed": false
   },
   "outputs": [],
   "source": [
    "#(3.5+3.7)/2,(5.5+5.6)/2  ]\n",
    "eps1=(3.7-3.5)\n",
    "eps2=(5.6-5.5)\n",
    "area=(eps1)*(eps2)*(f_x)\n",
    "print area"
   ]
  },
  {
   "cell_type": "code",
   "execution_count": null,
   "metadata": {
    "collapsed": false
   },
   "outputs": [],
   "source": [
    "from scipy.stats import norm\n",
    "#Now go and use the function to find the pdf value and compares these newly computed value\n",
    "#with the earlier value and compute the difference...\n",
    "#print np.array([eps1,eps2]).shape\n",
    "print \"Prob.:\",np.dot(np.array([eps1,eps2]),norm.pdf(X))"
   ]
  },
  {
   "cell_type": "markdown",
   "metadata": {},
   "source": [
    "#### Task4: Multivariate Gaussian\n",
    "\n",
    "Now consider that both the attributes are statistically independent and normally distributed then what will be the probability of $P(3.5 < x_1 < 3.7,5.5 < x_2 <5.6)$\n"
   ]
  },
  {
   "cell_type": "code",
   "execution_count": null,
   "metadata": {
    "collapsed": true
   },
   "outputs": [],
   "source": [
    "###for prob of the cont. rand var. will use the \n",
    "###formula as f(x) as given above\n",
    "###integeral will be in range given [5.6,5.7]\n",
    "###other approach is that:\n",
    "###now if we but the 5.6 in the\n",
    "def area_prob(p_l,x):\n",
    "    mean_1=np.mean(p_l)\n",
    "    std=np.std(p_l)\n",
    "    ###we take the x as 5.7 [it can be 5.6]\n",
    "    f_x_1=1/( std*( (2*3.14)**.5) )\n",
    "    f_x_2=(x-mean_1)**2/(2*(std)**2)\n",
    "    f_x_2=1/( 2.71828**(f_x_2) )### e=2.71\n",
    "    f_x=f_x_1*f_x_2\n",
    "    return f_x"
   ]
  },
  {
   "cell_type": "code",
   "execution_count": null,
   "metadata": {
    "collapsed": false,
    "run_control": {
     "breakpoint": false
    }
   },
   "outputs": [],
   "source": [
    "#############################################\n",
    "###we have formula for area under curve as:\n",
    "###area=2*eps*f(x)\n",
    "###x is the mid point of two values given between which we\n",
    "###will find the area.\n",
    "###eps is diff. between these two points.\n",
    "def area_under_curve(data_list,mina,maxa):\n",
    "    x=(mina+maxa)/2\n",
    "    eps=(maxa-mina)/2\n",
    "    f_x=area_prob(data_list,x)\n",
    "    return 2*eps*f_x\n",
    "#############################################\n",
    " \n",
    "p1=area_under_curve(datalist[1],3.5,3.7)\n",
    "print \"P(3.5<x 1 <3.7):\",p1\n",
    "\n",
    " \n",
    "p2=area_under_curve(datalist[0],5.5,5.6)\n",
    "print \"P(5.5<x 1 <5.6):\",p2"
   ]
  },
  {
   "cell_type": "code",
   "execution_count": null,
   "metadata": {
    "collapsed": false
   },
   "outputs": [],
   "source": [
    "print \"P(3.5<x 1 <3.7,5.5<x 2 <5.6)\",p1*p2"
   ]
  },
  {
   "cell_type": "markdown",
   "metadata": {},
   "source": [
    "#### Task5: Categorical Random Variables.\n",
    "----------------\n",
    "Lets categorize the petal length variable to four categories, i.e very short $\\in[1,1.6]$, short $\\in(1.6,4.4]$, long $\\in(4.4,5.1]$, very long $\\in(5.1,6.9]$ and model this varible using random variable $x$\n",
    "\n",
    "Find the probability of this cateogrical random variable."
   ]
  },
  {
   "cell_type": "code",
   "execution_count": null,
   "metadata": {
    "collapsed": false
   },
   "outputs": [],
   "source": [
    "###veryShort=[0001]\n",
    "###short=[0010]\n",
    "###long=[0100]\n",
    "###veryLong=[1000]\n",
    "\n",
    "#Write your code here\n",
    "###petal_len_veryShort=[1,1.6],len_short=(1.6,4.4],len_long=(4.4,5.1]\n",
    "###len_veryLong=(5.1,6.9]\n",
    "###datalist[0]='PetalLength',datalist[1]='PetalWidth'\n",
    "###datalist[2]='SepalLength',datalist[3]='SepalWidth'\n",
    "def prob_n_0001(l,x1,x2):###very short\n",
    "    count=0\n",
    "    for i in range(0,len(l)-1):\n",
    "           if( x1<=l[i]<=x2 ):\n",
    "                count+=1\n",
    "    return count\n",
    "#########for P(1,1,1,1)\n",
    "print \"count(0,0,1,1)=\",prob_n_0001(datalist[0],1,1.6)"
   ]
  },
  {
   "cell_type": "code",
   "execution_count": null,
   "metadata": {
    "collapsed": false
   },
   "outputs": [],
   "source": [
    "def prob_with_n(l,min1,max1):\n",
    "    c_short=0\n",
    "    for i in l:\n",
    "        #print i,\n",
    "        if(min1 < i <= max1):\n",
    "            c_short+=1\n",
    "    print c_short        \n",
    "    return c_short/150.0\n",
    "###############\n",
    "prob_with_n(datalist[0],5.1,6.9)"
   ]
  },
  {
   "cell_type": "code",
   "execution_count": null,
   "metadata": {
    "collapsed": false,
    "run_control": {
     "breakpoint": false
    }
   },
   "outputs": [],
   "source": [
    "import numpy as np\n",
    "#Write your code here\n",
    "#x=np.array( \n",
    "e1=     np.array([0,0,0,1])\n",
    "e2=     np.array([0,0,1,0])\n",
    "e3=     np.array([0,1,0,0])\n",
    "e4=    np.array([1,0,0,0])\n"
   ]
  },
  {
   "cell_type": "markdown",
   "metadata": {},
   "source": [
    "#### Task6: Categorical Random Variables.\n",
    "Find the mean and covariance matrix of categorical variable $x$."
   ]
  },
  {
   "cell_type": "code",
   "execution_count": null,
   "metadata": {
    "collapsed": false,
    "run_control": {
     "breakpoint": false
    }
   },
   "outputs": [],
   "source": [
    "#Write your code here\n",
    "##############################\n",
    "#from the function above used in assignment1_a i find the folllowwing values\n",
    "very_short=43\n",
    "short=35\n",
    "longa=37\n",
    "very_long=34\n",
    "\n",
    "p_v_s_e1 =43/150.0 \n",
    "p_s_e2 =35/150.0 \n",
    "p_l_e3 =37/150.0 \n",
    "p_v_l_e4 =34/150.0\n",
    "\n",
    "mean_v=np.array([  [p_v_s_e1] , [p_s_e2] , [p_l_e3] , [p_v_l_e4] ])\n",
    "\n",
    "print mean_v"
   ]
  },
  {
   "cell_type": "code",
   "execution_count": null,
   "metadata": {
    "collapsed": false
   },
   "outputs": [],
   "source": [
    "P=np.diag( [ p_v_s_e1 , p_s_e2 , p_l_e3 , p_v_l_e4 ] )\n",
    "print  P"
   ]
  },
  {
   "cell_type": "code",
   "execution_count": null,
   "metadata": {
    "collapsed": false
   },
   "outputs": [],
   "source": [
    "#####cov_matrix=P-p.pT\n",
    "#####P is  adiagonal matrix having prob of each unique attribute in a feature\n",
    "####means probility of e\n",
    "####and p is a 4x1 matrix having element as probilily of each attr, in a feattrue\n",
    "####Book Page 70. data mining by M.Zaki\n",
    "print mean_v.shape\n",
    "p_dot_p_T = np.dot( mean_v,mean_v.T )\n",
    "cov_mat=P-p_dot_p_T\n",
    "print cov_mat\n",
    "#m1=np.array([  [0.3], [0.333] ,[0.287] ,[0.08] ])\n",
    "#print np.dot(m1,m1.T)"
   ]
  },
  {
   "cell_type": "markdown",
   "metadata": {},
   "source": [
    "#### Task7: Categorical Random Variables.\n",
    "\n",
    "If we select 10 random flowers what will be the probability of picking 3 very short length, 2 short length, 4 long length and 1 very long petal length flowers."
   ]
  },
  {
   "cell_type": "code",
   "execution_count": null,
   "metadata": {
    "collapsed": false,
    "run_control": {
     "breakpoint": false
    }
   },
   "outputs": [],
   "source": []
  },
  {
   "cell_type": "code",
   "execution_count": null,
   "metadata": {
    "collapsed": false,
    "run_control": {
     "breakpoint": false
    }
   },
   "outputs": [],
   "source": [
    "#Write your code here"
   ]
  },
  {
   "cell_type": "markdown",
   "metadata": {},
   "source": [
    "#### Task8: Bivariate Categorical Random Variables.\n",
    "----------------\n",
    "Lets also categorize the petal width variable to three categories, i.e short $\\in[0.1,1.0]$, medium  $\\in(1.0,1.75)$, long $\\in(1.75,2.5]$.\n",
    "\n",
    "Now lets model both the petal length and width as bivariate categorical random variable $X$.\n",
    "Find the probability for following cases.\n",
    "\n",
    "$$p(x_1=[1000], x_2=[000])$$\n",
    "$$p(x_1=[1000], x_2=[001])$$\n",
    "\n",
    "$$p(x_1=[0010], x_2=[010])$$\n",
    "$$p(x_1=[0001], x_2=[100])$$\n"
   ]
  },
  {
   "cell_type": "code",
   "execution_count": null,
   "metadata": {
    "collapsed": false
   },
   "outputs": [],
   "source": [
    "#Write your code here\n",
    "##########################\n",
    "###wid_short=[000],wid_medium=[001],wid_long=[100]\n",
    "##########################\n",
    "### len_long=[0001]\n",
    "###len_short=[0010]\n",
    "###len_veryShort=[0100]######****\n",
    "###len_veryLong=[1000]\n",
    "###petal_wid_short=[0.1,1.0],wid_med=(1.0,1.75),wid_long=(1.75,2.5]\n",
    "###petal_len_veryShort=[1,1.6],len_short=(1.6,4.4],len_long=(4.4,5.1]\n",
    "###len_veryLong=(5.1,6.9]\n",
    "###datalist[0]='PetalLength',datalist[1]='PetalWidth'\n",
    "###datalist[2]='SepalLength',datalist[3]='SepalWidth'\n",
    "def p_1000_000(l_1,l_2,xlen_1,xlen_2,xwid_3,xwid_4):###x is len and y is wid\n",
    "    count=0\n",
    "    for i in range(0,len(l_1)-1):\n",
    "           if( xlen_1<l_1[i]<=xlen_2 and xwid_3<=l_2[i]<=xwid_4):\n",
    "                count+=1\n",
    "    return count\n",
    "#########for P(1,1,1,1)\n",
    "print \"count(1000,000)=\",p_1000_000(datalist[0],datalist[1],5.1,6.9,0.1,1.0)\n"
   ]
  },
  {
   "cell_type": "code",
   "execution_count": null,
   "metadata": {
    "collapsed": false
   },
   "outputs": [],
   "source": [
    "#Write your code here\n",
    "##########################\n",
    "###wid_short=[000],wid_medium=[001],wid_long=[100]\n",
    "##########################\n",
    "### len_long=[0001]\n",
    "###len_short=[0010]\n",
    "###len_veryShort=[0100]######****\n",
    "###len_veryLong=[1000]\n",
    "###petal_wid_short=[0.1,1.0],wid_med=(1.0,1.75),wid_long=(1.75,2.5]\n",
    "###petal_len_veryShort=[1,1.6],len_short=(1.6,4.4],len_long=(4.4,5.1]\n",
    "###len_veryLong=(5.1,6.9]\n",
    "###datalist[0]='PetalLength',datalist[1]='PetalWidth'\n",
    "###datalist[2]='SepalLength',datalist[3]='SepalWidth'\n",
    "def p_1000_001(l_1,l_2,xlen_1,xlen_2,xwid_3,xwid_4):###x is len and y is wid\n",
    "    count=0\n",
    "    for i in range(0,len(l_1)-1):\n",
    "           if( xlen_1<l_1[i]<=xlen_2 and xwid_3<l_2[i]<xwid_4):\n",
    "                count+=1\n",
    "    return count\n",
    "#########for P(1,1,1,1)\n",
    "print \"count(1000,001)=\",p_1000_001(datalist[0],datalist[1],5.1,6.9,1.0,1.75)"
   ]
  },
  {
   "cell_type": "code",
   "execution_count": null,
   "metadata": {
    "collapsed": false
   },
   "outputs": [],
   "source": [
    "#Write your code here\n",
    "##########################\n",
    "###wid_short=[000],wid_medium=[001],wid_long=[100]\n",
    "##########################\n",
    "### len_long=[0001]\n",
    "###len_short=[0010]\n",
    "###len_veryShort=[0100]######****\n",
    "###len_veryLong=[1000]\n",
    "###petal_wid_short=[0.1,1.0],wid_med=(1.0,1.75),wid_long=(1.75,2.5]\n",
    "###petal_len_veryShort=[1,1.6],len_short=(1.6,4.4],len_long=(4.4,5.1]\n",
    "###len_veryLong=(5.1,6.9]\n",
    "###datalist[0]='PetalLength',datalist[1]='PetalWidth'\n",
    "###datalist[2]='SepalLength',datalist[3]='SepalWidth'\n",
    "def p_0010_001(l_1,l_2,xlen_1,xlen_2,xwid_3,xwid_4):###x is len and y is wid\n",
    "    count=0\n",
    "    for i in range(0,len(l_1)-1):\n",
    "           if( xlen_1<l_1[i]<xlen_2 and xwid_3<l_2[i]<xwid_4):\n",
    "                count+=1\n",
    "    return count\n",
    "#########\n",
    "print \"count(0010,001)=\",p_0010_001(datalist[0],datalist[1],1.6,4.4,1.0,1.75)"
   ]
  },
  {
   "cell_type": "code",
   "execution_count": null,
   "metadata": {
    "collapsed": false
   },
   "outputs": [],
   "source": [
    "#Write your code here\n",
    "##########################\n",
    "###wid_short=[000],wid_medium=[001],wid_long=[100]\n",
    "##########################\n",
    "### len_long=[0001]\n",
    "###len_short=[0010]\n",
    "###len_veryShort=[0100]######****\n",
    "###len_veryLong=[1000]\n",
    "###petal_wid_short=[0.1,1.0],wid_med=(1.0,1.75),wid_long=(1.75,2.5]\n",
    "###petal_len_veryShort=[1,1.6],len_short=(1.6,4.4],len_long=(4.4,5.1]\n",
    "###len_veryLong=(5.1,6.9]\n",
    "###datalist[0]='PetalLength',datalist[1]='PetalWidth'\n",
    "###datalist[2]='SepalLength',datalist[3]='SepalWidth'\n",
    "def p_0001_100(l_1,l_2,xlen_1,xlen_2,xwid_3,xwid_4):###x is len and y is wid\n",
    "    count=0\n",
    "    for i in range(0,len(l_1)-1):\n",
    "           if( xlen_1<=l_1[i]<=xlen_2 and xwid_3<l_2[i]<=xwid_4):\n",
    "                count+=1\n",
    "    return count\n",
    "#########\n",
    "print \"count(0001,100)=\",p_0001_100(datalist[0],datalist[1],4.4,5.1,1.75,2.5)"
   ]
  },
  {
   "cell_type": "code",
   "execution_count": null,
   "metadata": {
    "collapsed": false
   },
   "outputs": [],
   "source": [
    "print \"p(x 1 =[1000],x 2 =[000]):\", 0*150.0\n",
    "print \"p(x 1 =[1000],x 2 =[001]):\", 2/150.0\n",
    "print \"p(x 1 =[0010],x 2 =[001]):\", 22/150.0\n",
    "print \"p(x 1 =[0001],x 2 =[100]):\", 13/150.0"
   ]
  },
  {
   "cell_type": "code",
   "execution_count": null,
   "metadata": {
    "collapsed": true
   },
   "outputs": [],
   "source": [
    "\"\"\"\n",
    "e1_w=np.array([ 0, 0, 0])\n",
    "e2_w=np.array([ 0, 0, 1])\n",
    "e3_w=np.array([ 1, 0, 0])\n",
    "\"\"\"\n"
   ]
  },
  {
   "cell_type": "code",
   "execution_count": null,
   "metadata": {
    "collapsed": false
   },
   "outputs": [],
   "source": [
    "###short_w_c=56,meduim_w_c=47,long_w_c=46\n",
    "\"\"\"\n",
    "p_short_e1_w=56/150.0\n",
    "p_medium_e2_w=47/150.0\n",
    "p_long_e3_w=46/150.0\n",
    "print p_short_w + p_medium_w+p_long_w\n",
    "\"\"\""
   ]
  },
  {
   "cell_type": "code",
   "execution_count": null,
   "metadata": {
    "collapsed": false
   },
   "outputs": [],
   "source": [
    "\"\"\"\n",
    "e1=     np.array([0,0,0,1])\n",
    "e2=     np.array([0,0,1,0])\n",
    "e3=     np.array([0,1,0,0])\n",
    "e4=    np.array([1,0,0,0])\n",
    "p_v_s_e1 =43/150.0 \n",
    "p_s_e2 =35/150.0 \n",
    "p_l_e3 =37/150.0 \n",
    "p_v_l_e4 =34/150.0\n",
    "\n",
    "print \"p(x 1 =[1000],x 2 =[000]):\", p_v_l_e4*p_short_e1_w\n",
    "print \"p(x 1 =[1000],x 2 =[001]):\", p_v_l_e4*p_medium_e2_w\n",
    "print \"p(x 1 =[0100],x 2 =[010]):\", p_l_e3*p_short_e1_w\n",
    "print \"p(x 1 =[0001],x 2 =[100]):\", p_v_s_e1*p_long_e3_w\n",
    "\n",
    "\"\"\""
   ]
  },
  {
   "cell_type": "markdown",
   "metadata": {},
   "source": [
    "#### Task9: Normalization\n",
    "----------------\n",
    "Normalize both the attributes (petal length and petal width) such that after normalization their values must lie in the interval [-2, 5]"
   ]
  },
  {
   "cell_type": "code",
   "execution_count": null,
   "metadata": {
    "collapsed": false,
    "run_control": {
     "breakpoint": false
    }
   },
   "outputs": [],
   "source": [
    "#Write your code here\n",
    "import copy\n",
    "def scale_norm(l,minN,maxN):\n",
    "    l=(l*(maxN-minN))+minN\n",
    "    return l\n",
    "def normalize(l):\n",
    "    min_1=min(l)\n",
    "    max_1=max(l)\n",
    "    range_1=max_1-min_1\n",
    "    normal_l=copy.copy(l)\n",
    "    normal_l=(normal_l-min_1)/range_1\n",
    "    return normal_l\n",
    "#######################\n",
    "scale_norm(normalize(datalist[0]),-2,5)\n",
    "scale_norm(normalize(datalist[1]),-2,5)"
   ]
  },
  {
   "cell_type": "markdown",
   "metadata": {},
   "source": [
    "#### Task10: Class wise mean vector and covariance matrix...\n",
    "Iris dataset have three different classes, now go and compute the class-wise (setosa, versicolor and virginica) mean vector and covariance matrix."
   ]
  },
  {
   "cell_type": "code",
   "execution_count": null,
   "metadata": {
    "collapsed": true
   },
   "outputs": [],
   "source": [
    "#Write your code here\n",
    "###we know that given data have equal distrinution of 3-classes\n",
    "###so setosa=50,versicolor=50,verginica=50\n",
    "p_setosa=50/150.0\n",
    "p_versi=50/150.0\n",
    "p_verg=50/150.0\n"
   ]
  },
  {
   "cell_type": "code",
   "execution_count": null,
   "metadata": {
    "collapsed": false
   },
   "outputs": [],
   "source": [
    "mean_v_flower=np.array([  [p_setosa] , [p_versi] , [p_verg]  ])\n",
    "print mean_v_flower"
   ]
  },
  {
   "cell_type": "code",
   "execution_count": null,
   "metadata": {
    "collapsed": false
   },
   "outputs": [],
   "source": [
    "P_flower=np.diag( [  p_setosa, p_versi , p_verg  ] )\n",
    "print  P_flower"
   ]
  },
  {
   "cell_type": "code",
   "execution_count": null,
   "metadata": {
    "collapsed": false
   },
   "outputs": [],
   "source": [
    "#print mean_v_flower.shape\n",
    "p_dot_p_T = np.dot( mean_v_flower,mean_v_flower.T )\n",
    "cov_mat=P_flower-p_dot_p_T\n",
    "print \"Covariance Matrix:\"\n",
    "print cov_mat"
   ]
  },
  {
   "cell_type": "markdown",
   "metadata": {},
   "source": [
    "#### Task11: Caclulating the Probability of a flower belonging to a particular class\n",
    "Using above information, lets model each class to be modeled by continuous multivariate Gaussian Random varible. Now we have recorded a flower with following attributes (sepal lenght=4, petal length=6, sepal width=4, sepal length=5.5) in the field, which class it belongs. "
   ]
  },
  {
   "cell_type": "code",
   "execution_count": null,
   "metadata": {
    "collapsed": true
   },
   "outputs": [],
   "source": [
    "#Write your code here\n"
   ]
  },
  {
   "cell_type": "markdown",
   "metadata": {},
   "source": [
    "\n",
    "#### Task12:  X is a normally distributed variable with mean μ = 30 and standard deviation σ = 4. Find \n",
    "\n",
    "a) P(x < 40)\n",
    "\n",
    "b) P(x > 21)\n",
    "\n",
    "c) P(30 < x < 35)\n",
    "\n",
    "You can use scipy.stats.norm functions to answer these questions. These problems are contributed by an anonymous source."
   ]
  },
  {
   "cell_type": "code",
   "execution_count": null,
   "metadata": {
    "collapsed": true
   },
   "outputs": [],
   "source": [
    "from scipy import stats"
   ]
  },
  {
   "cell_type": "code",
   "execution_count": null,
   "metadata": {
    "collapsed": false
   },
   "outputs": [],
   "source": [
    "#Write your code here\n",
    "X_data=np.random.normal(0,1,100)"
   ]
  },
  {
   "cell_type": "code",
   "execution_count": null,
   "metadata": {
    "collapsed": false
   },
   "outputs": [],
   "source": [
    "stats.norm.cdf([1,90])"
   ]
  },
  {
   "cell_type": "code",
   "execution_count": null,
   "metadata": {
    "collapsed": false
   },
   "outputs": [],
   "source": [
    "###step:1 first we compute the Z value by using the formula as:\n",
    "###Z=(X-mean)/std\n",
    "###setp2:put value of Z in cdf which will be he answer\n",
    "###a) P(x < 40)\n",
    "Z=(40-30)/4\n",
    "print stats.norm.cdf(Z)"
   ]
  },
  {
   "cell_type": "code",
   "execution_count": null,
   "metadata": {
    "collapsed": false
   },
   "outputs": [],
   "source": [
    "###b) P(x > 21)\n",
    "Z=(21-30)/4\n",
    "print 1-stats.norm.cdf(Z)"
   ]
  },
  {
   "cell_type": "code",
   "execution_count": null,
   "metadata": {
    "collapsed": false
   },
   "outputs": [],
   "source": [
    "#c) P(30 < x < 35)\n",
    "Z=(30-30)/4\n",
    "x1=1-stats.norm.cdf(Z)\n",
    "Z=(35-30)/4\n",
    "x2=stats.norm.cdf(Z)\n",
    "print \"P(30 < x < 35)=\",x1*x2"
   ]
  },
  {
   "cell_type": "markdown",
   "metadata": {},
   "source": [
    "#### Task13: \n",
    "The time taken to assemble a car in a certain plant is a random variable having a normal distribution with a mean of 20 hours and a standard deviation of 2 hours. What is the probability that a car can be assembled at this plant in:\n",
    "\n",
    "a) less than 19.5 hours?\n",
    "\n",
    "b) between 20 and 22 hours?"
   ]
  },
  {
   "cell_type": "code",
   "execution_count": null,
   "metadata": {
    "collapsed": false
   },
   "outputs": [],
   "source": [
    "#Write your code here\n",
    "Z=(19.5-20)/2\n",
    "print \"a) less than 19.5 hours?:\",stats.norm.cdf(Z)"
   ]
  },
  {
   "cell_type": "code",
   "execution_count": null,
   "metadata": {
    "collapsed": false
   },
   "outputs": [],
   "source": [
    "#c) P(20 < x < 22)\n",
    "Z=(20-30)/4\n",
    "x1=1-stats.norm.cdf(Z)\n",
    "Z=(22-30)/4\n",
    "x2=stats.norm.cdf(Z)\n",
    "print \"b):P(20 < x < 22)=\",x1*x2"
   ]
  },
  {
   "cell_type": "markdown",
   "metadata": {},
   "source": [
    "#### Task14:\n",
    "A manufacturer of metal pistons finds that on average, 12% of his pistons are rejected because they are either oversized or undersized. What is the probability that a batch of 10 pistons will contain\n",
    "\n",
    "(a) no more than 2 rejects?\n",
    "\n",
    "(b) at least 2 rejects?"
   ]
  },
  {
   "cell_type": "code",
   "execution_count": null,
   "metadata": {
    "collapsed": false
   },
   "outputs": [],
   "source": [
    "#Write your code here\n",
    "def comb(n,r):\n",
    "    f=math.factorial\n",
    "    return f(n) / ( f(r)*f(n-r) )\n",
    "##########################\n",
    "#(a) no more than 2 rejects?\n",
    "prob_0=comb(10,0)*(.12)**0*(1-.12)**10\n",
    "prob_1=comb(10,1)*(.12)**1*(1-.12)**9\n",
    "prob_2=comb(10,2)*(.12)**2*(1-.12)**8\n",
    "print \"(a) no more than 2 rejects?:\",prob_0+prob_1+prob_2"
   ]
  },
  {
   "cell_type": "code",
   "execution_count": 10,
   "metadata": {
    "collapsed": false
   },
   "outputs": [
    {
     "name": "stdout",
     "output_type": "stream",
     "text": [
      "(b) at least 2 rejects?:"
     ]
    },
    {
     "ename": "NameError",
     "evalue": "name 'prob_0' is not defined",
     "output_type": "error",
     "traceback": [
      "\u001b[0;31m---------------------------------------------------------------------------\u001b[0m",
      "\u001b[0;31mNameError\u001b[0m                                 Traceback (most recent call last)",
      "\u001b[0;32m<ipython-input-10-f0d0cf8233e9>\u001b[0m in \u001b[0;36m<module>\u001b[0;34m()\u001b[0m\n\u001b[1;32m      1\u001b[0m \u001b[1;31m#(b) at least 2 rejects?\u001b[0m\u001b[1;33m\u001b[0m\u001b[1;33m\u001b[0m\u001b[0m\n\u001b[1;32m      2\u001b[0m \u001b[1;31m###p(x<=2)=1-p(x<=1)\u001b[0m\u001b[1;33m\u001b[0m\u001b[1;33m\u001b[0m\u001b[0m\n\u001b[0;32m----> 3\u001b[0;31m \u001b[1;32mprint\u001b[0m \u001b[1;34m\"(b) at least 2 rejects?:\"\u001b[0m\u001b[1;33m,\u001b[0m\u001b[1;36m1\u001b[0m\u001b[1;33m-\u001b[0m\u001b[1;33m(\u001b[0m\u001b[0mprob_0\u001b[0m\u001b[1;33m+\u001b[0m\u001b[0mprob_1\u001b[0m\u001b[1;33m)\u001b[0m\u001b[1;33m\u001b[0m\u001b[0m\n\u001b[0m",
      "\u001b[0;31mNameError\u001b[0m: name 'prob_0' is not defined"
     ]
    }
   ],
   "source": [
    "#(b) at least 2 rejects?\n",
    "###p(x<=2)=1-p(x<=1)\n",
    "print \"(b) at least 2 rejects?:\",1-(prob_0+prob_1)"
   ]
  }
 ],
 "metadata": {
  "anaconda-cloud": {},
  "kernelspec": {
   "display_name": "Python [default]",
   "language": "python",
   "name": "python2"
  },
  "language_info": {
   "codemirror_mode": {
    "name": "ipython",
    "version": 2
   },
   "file_extension": ".py",
   "mimetype": "text/x-python",
   "name": "python",
   "nbconvert_exporter": "python",
   "pygments_lexer": "ipython2",
   "version": "2.7.12"
  }
 },
 "nbformat": 4,
 "nbformat_minor": 0
}
